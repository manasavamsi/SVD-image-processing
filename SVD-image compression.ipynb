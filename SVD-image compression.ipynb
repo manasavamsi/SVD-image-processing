{
 "cells": [
  {
   "cell_type": "code",
   "execution_count": 1,
   "metadata": {},
   "outputs": [],
   "source": [
    "import numpy as np\n",
    "import matplotlib.pyplot as plt"
   ]
  },
  {
   "cell_type": "code",
   "execution_count": 2,
   "metadata": {},
   "outputs": [],
   "source": [
    "#Montecarlo calculation of π\n",
    "%matplotlib inline"
   ]
  },
  {
   "cell_type": "code",
   "execution_count": 3,
   "metadata": {},
   "outputs": [],
   "source": [
    "def mc_pi(ntrials):\n",
    "    \"\"\"\n",
    "    Calculate the value of pi using montecarlo method and visualize the process\n",
    "    \"\"\"\n",
    "    x = np.random.random(ntrials)\n",
    "    y = np.random.random(ntrials)\n",
    "    #masking\n",
    "    inside_circle = x**2+y**2 < 1\n",
    "    unit_circle_x = np.linspace(0,1,100)\n",
    "    unit_circle = [unit_circle_x,np.sqrt(1.0-unit_circle_x**2)]\n",
    "    plt.plot(*unit_circle,color ='black')\n",
    "    plt.scatter(x[inside_circle],y[inside_circle],marker='.',color='blue',s=1)\n",
    "    plt.scatter(x[~inside_circle],y[~inside_circle],marker='.',color='red',s=1)\n",
    "    plt.title(\"value of $\\pi$=\"+str(4.0*np.sum(inside_circle)/float(ntrials)))"
   ]
  },
  {
   "cell_type": "code",
   "execution_count": 4,
   "metadata": {},
   "outputs": [
    {
     "data": {
      "application/vnd.jupyter.widget-view+json": {
       "model_id": "b1801d6988154f02a3c816bfc8292eb0",
       "version_major": 2,
       "version_minor": 0
      },
      "text/plain": [
       "interactive(children=(IntSlider(value=49991, description='ntrials', max=100000, min=1, step=10), Output()), _d…"
      ]
     },
     "metadata": {},
     "output_type": "display_data"
    }
   ],
   "source": [
    "from ipywidgets import interact, interactive, interact_manual\n",
    "mc_widget = interactive(mc_pi,ntrials=(1,100000,10));\n",
    "mc_widget"
   ]
  },
  {
   "cell_type": "code",
   "execution_count": 5,
   "metadata": {},
   "outputs": [],
   "source": [
    "#SVD for image compression\n",
    "from skimage import data\n",
    "from skimage.color import rgb2gray"
   ]
  },
  {
   "cell_type": "code",
   "execution_count": 6,
   "metadata": {},
   "outputs": [],
   "source": [
    "from skimage import img_as_ubyte,img_as_float\n",
    "gray_images = {\n",
    "    \"cat\":rgb2gray(img_as_float(data.chelsea())),\n",
    "    \"astro\":rgb2gray(img_as_float(data.astronaut())),\n",
    "    \"camera\":data.camera(),\n",
    "    \"coin\": data.coins(),\n",
    "    \"clock\":data.clock(),\n",
    "    \"blobs\":data.binary_blobs(),\n",
    "    \"coffee\":rgb2gray(img_as_float(data.coffee()))\n",
    "}"
   ]
  },
  {
   "cell_type": "code",
   "execution_count": 7,
   "metadata": {},
   "outputs": [],
   "source": [
    "from numpy.linalg import svd"
   ]
  },
  {
   "cell_type": "code",
   "execution_count": null,
   "metadata": {},
   "outputs": [],
   "source": [
    "###################################################################################################"
   ]
  },
  {
   "cell_type": "code",
   "execution_count": 8,
   "metadata": {},
   "outputs": [],
   "source": [
    "def compress_svd(image, k):\n",
    "    \"\"\"\n",
    "    Perform svd decomposition and truncated(using k singular values/vectors) reconstruction\n",
    "    returns\n",
    "    ------\n",
    "    reconstructed matrix reconst_matrix, array of singular values s\n",
    "    \"\"\"\n",
    "    U,s,v = svd(image,full_matrices = False)\n",
    "    reconst_matrix = np.dot(U[:,:k],np.dot(np.diag(s[:k]),v[:k,:]))\n",
    "    \n",
    "    return reconst_matrix,s"
   ]
  },
  {
   "cell_type": "code",
   "execution_count": 9,
   "metadata": {},
   "outputs": [],
   "source": [
    "def compress_show_gray_images(img_name,k):\n",
    "    \"\"\"\n",
    "    Compresses gray scale images and display the reconstructed image.\n",
    "    Also displays a plot of singular values\n",
    "    \"\"\"\n",
    "    image=gray_images[img_name]\n",
    "    original_shape = image.shape\n",
    "    reconst_img,s=compress_svd(image,k)\n",
    "    fig,axes = plt.subplots(1,2,figsize=(8,5))\n",
    "    axes[0].plot(s)\n",
    "    compression_ratio = 100.0*(k*(original_shape[0] +\n",
    "                                  original_shape[1])+k)/(original_shape[0]*original_shape[1])\n",
    "    axes[1].set_title(\"compression ratio= {:,2f}\"+format(compression_ratio)+\"%\")\n",
    "    axes[1].imshow(reconst_img,cmap='gray')\n",
    "    axes[1].axis('on')\n",
    "    fig.tight_layout() "
   ]
  },
  {
   "cell_type": "code",
   "execution_count": 10,
   "metadata": {},
   "outputs": [
    {
     "data": {
      "application/vnd.jupyter.widget-view+json": {
       "model_id": "5354f2b295494d98bca3e81625a44630",
       "version_major": 2,
       "version_minor": 0
      },
      "text/plain": [
       "interactive(children=(Dropdown(description='img_name', options=('cat', 'astro', 'camera', 'coin', 'clock', 'bl…"
      ]
     },
     "metadata": {},
     "output_type": "display_data"
    }
   ],
   "source": [
    "interact(compress_show_gray_images,img_name=list(gray_images.keys()),k=(1,300));"
   ]
  },
  {
   "cell_type": "code",
   "execution_count": 11,
   "metadata": {},
   "outputs": [],
   "source": [
    "def compress_show_gray_images(img_name,k,original_shape):\n",
    "    \"\"\"\n",
    "    Compresses gray scale images and display the reconstructed image.\n",
    "    Also displays a plot of singular values\n",
    "    \"\"\"\n",
    "    image=gray_images[img_name]\n",
    "    original_shape = image.shape\n",
    "    reconst_img,s=compress_svd(image,k)\n",
    "    fig,axes = plt.subplots(1,2,figsize=(8,5))\n",
    "    axes[0].plot(s)\n",
    "    #K is the number of singular values/vectors\n",
    "    compression_ratio = 100.0*(k*(original_shape[0] +\n",
    "                                  original_shape[1])+k)/(original_shape[0]*original_shape[1])\n",
    "    axes[1].set_title(\"compression ratio= {:,2f}\"+format(compression_ratio)+\"%\")\n",
    "    axes[1].imshow(reconst_img,cmap='gray')\n",
    "    axes[1].axis('on')\n",
    "    fig.tight_layout() "
   ]
  },
  {
   "cell_type": "code",
   "execution_count": null,
   "metadata": {},
   "outputs": [],
   "source": []
  },
  {
   "cell_type": "code",
   "execution_count": 12,
   "metadata": {},
   "outputs": [],
   "source": [
    "color_images = {\n",
    "    \"cat\":img_as_float(data.chelsea()),\n",
    "    \"astro\":img_as_float(data.astronaut()),\n",
    "    \"coffee\":img_as_float(data.coffee())\n",
    "}"
   ]
  },
  {
   "cell_type": "code",
   "execution_count": 13,
   "metadata": {},
   "outputs": [],
   "source": [
    "#Reshaping method to compress a color image involves flattening the third dimension of the \n",
    "#image array into the second dimension using numpy's reshape method.\n",
    "def compress_show_color_images_reshape(img_name,k):\n",
    "    \"\"\"\n",
    "    compress and display the reconstructed color image using the reshape method\n",
    "    \"\"\"\n",
    "    image = color_images[img_name]\n",
    "    original_shape = image.shape\n",
    "    image_reshaped = image.reshape((original_shape[0],original_shape[1]*3))\n",
    "    image_reconst,_ =compress_svd(image_reshaped,k)\n",
    "    image_reconst = image_reconst.reshape(original_shape)\n",
    "    compression_ratio = 100.0*(k*(original_shape[0] +\n",
    "                                  3*original_shape[1])+k)/(original_shape[0]*original_shape[1]*original_shape[2])\n",
    "    plt.title(\"compression ratio= {:,2f}\"+format(compression_ratio)+\"%\")\n",
    "    plt.imshow(image_reconst)"
   ]
  },
  {
   "cell_type": "code",
   "execution_count": 14,
   "metadata": {},
   "outputs": [
    {
     "data": {
      "application/vnd.jupyter.widget-view+json": {
       "model_id": "04e35ceb92aa4065bb5f480022348f19",
       "version_major": 2,
       "version_minor": 0
      },
      "text/plain": [
       "interactive(children=(Dropdown(description='img_name', options=('cat', 'astro', 'coffee'), value='cat'), IntSl…"
      ]
     },
     "metadata": {},
     "output_type": "display_data"
    }
   ],
   "source": [
    "interact(compress_show_color_images_reshape,img_name = list(color_images.keys()),k=(0,512));"
   ]
  },
  {
   "cell_type": "code",
   "execution_count": 15,
   "metadata": {},
   "outputs": [],
   "source": [
    "#In this layers method to compress color images we treat a color image as a stack\n",
    "#of 3 seperate two dimensional images (RGB). we apply the truncated svd reconstruction\n",
    "#on each two dimensional layer seperately.\n",
    "def compress_show_color_images_layer(img_name,k):\n",
    "    \"\"\"\n",
    "    compress and display the reconstructed color image using the reshape method\n",
    "    \"\"\"\n",
    "    image = color_images[img_name]\n",
    "    original_shape = image.shape\n",
    "    image_reconst_layers = [compress_svd(image[:,:,i],k)[0] for i in range(3)]\n",
    "    image_reconst = np.zeros(image.shape)\n",
    "    for i in range(3):\n",
    "        image_reconst[:,:,i] = image_reconst_layers[i]\n",
    "        compression_ratio = 100.0*(k*(original_shape[0] +\n",
    "                                  3*original_shape[1])+k)/(original_shape[0]*original_shape[1]*original_shape[2])\n",
    "        plt.title(\"compression ratio= {:,2f}\"+format(compression_ratio)+\"%\")\n",
    "        plt.imshow(image_reconst)"
   ]
  },
  {
   "cell_type": "code",
   "execution_count": 17,
   "metadata": {},
   "outputs": [
    {
     "data": {
      "application/vnd.jupyter.widget-view+json": {
       "model_id": "d43e63e65c494215ad68524918d1109b",
       "version_major": 2,
       "version_minor": 0
      },
      "text/plain": [
       "interactive(children=(Dropdown(description='img_name', options=('cat', 'astro', 'coffee'), value='cat'), IntSl…"
      ]
     },
     "metadata": {},
     "output_type": "display_data"
    }
   ],
   "source": [
    "interact(compress_show_color_images_layer,img_name=list(color_images.keys()),k=(1,550));"
   ]
  },
  {
   "cell_type": "code",
   "execution_count": null,
   "metadata": {},
   "outputs": [],
   "source": []
  }
 ],
 "metadata": {
  "kernelspec": {
   "display_name": "Python 3",
   "language": "python",
   "name": "python3"
  },
  "language_info": {
   "codemirror_mode": {
    "name": "ipython",
    "version": 3
   },
   "file_extension": ".py",
   "mimetype": "text/x-python",
   "name": "python",
   "nbconvert_exporter": "python",
   "pygments_lexer": "ipython3",
   "version": "3.7.3"
  }
 },
 "nbformat": 4,
 "nbformat_minor": 2
}
